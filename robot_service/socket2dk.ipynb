{
 "cells": [
  {
   "cell_type": "code",
   "execution_count": 1,
   "metadata": {},
   "outputs": [
    {
     "name": "stdout",
     "output_type": "stream",
     "text": [
      "Collecting websockets\n",
      "  Downloading websockets-12.0-cp39-cp39-win_amd64.whl.metadata (6.8 kB)\n",
      "Downloading websockets-12.0-cp39-cp39-win_amd64.whl (124 kB)\n",
      "   ---------------------------------------- 0.0/125.0 kB ? eta -:--:--\n",
      "   --------- ----------------------------- 30.7/125.0 kB 660.6 kB/s eta 0:00:01\n",
      "   ---------------------------------------- 125.0/125.0 kB 1.5 MB/s eta 0:00:00\n",
      "Installing collected packages: websockets\n",
      "Successfully installed websockets-12.0\n"
     ]
    }
   ],
   "source": [
    "!pip install websockets"
   ]
  },
  {
   "cell_type": "code",
   "execution_count": 9,
   "metadata": {},
   "outputs": [
    {
     "name": "stdout",
     "output_type": "stream",
     "text": [
      "Requirement already satisfied: websockets in c:\\users\\user\\anaconda3\\envs\\donkeycar39\\lib\\site-packages (12.0)\n"
     ]
    }
   ],
   "source": [
    "!pip install websockets"
   ]
  },
  {
   "cell_type": "code",
   "execution_count": 9,
   "metadata": {},
   "outputs": [
    {
     "name": "stdout",
     "output_type": "stream",
     "text": [
      "Posting {\"angle\": 0, \"throttle\": 0, \"drive_mode\": \"user\", \"recording\": false, \"buttons\": {\"w1\": false, \"w2\": false, \"w3\": false, \"w4\": false, \"w5\": false}}\n",
      "ok\n"
     ]
    }
   ],
   "source": [
    "# STOP\n",
    "\n",
    "import asyncio\n",
    "import websockets\n",
    "import json\n",
    "\n",
    "async def send_data():\n",
    "    data = {}\n",
    "    fields = ['angle', 'throttle', 'drive_mode', 'recording', 'buttons']  # Assuming 'fields' array in JavaScript context\n",
    "\n",
    "    for field in fields:\n",
    "        if field == 'angle':\n",
    "            data['angle'] = 0\n",
    "        elif field == 'throttle':\n",
    "            data['throttle'] = 0\n",
    "        elif field == 'drive_mode':\n",
    "            data['drive_mode'] = 'user'\n",
    "        elif field == 'recording':\n",
    "            data['recording'] = False\n",
    "        elif field == 'buttons':\n",
    "            data['buttons'] = {\"w1\":False,\"w2\":False,\"w3\":False,\"w4\":False,\"w5\":False}\n",
    "        else:\n",
    "            print(f\"Unexpected post field: '{field}'\")\n",
    "\n",
    "    if data:\n",
    "        json_data = json.dumps(data)\n",
    "        print(f\"Posting {json_data}\")\n",
    "        async with websockets.connect('ws://192.168.137.192:8887/wsDrive') as websocket:\n",
    "            print('ok')\n",
    "            await websocket.send(json_data)\n",
    "\n",
    "await send_data()"
   ]
  },
  {
   "cell_type": "code",
   "execution_count": 7,
   "metadata": {},
   "outputs": [
    {
     "name": "stdout",
     "output_type": "stream",
     "text": [
      "Posting {\"angle\": 0, \"throttle\": 0, \"drive_mode\": \"local\", \"recording\": false, \"buttons\": {\"w1\": false, \"w2\": false, \"w3\": false, \"w4\": false, \"w5\": false}}\n",
      "go\n"
     ]
    }
   ],
   "source": [
    "# RUN\n",
    "\n",
    "import asyncio\n",
    "import websockets\n",
    "import json\n",
    "\n",
    "async def send_data():\n",
    "    data = {}\n",
    "    fields = ['angle', 'throttle', 'drive_mode', 'recording', 'buttons']  # Assuming 'fields' array in JavaScript context\n",
    "\n",
    "    for field in fields:\n",
    "        if field == 'angle':\n",
    "            data['angle'] = 0\n",
    "        elif field == 'throttle':\n",
    "            data['throttle'] = 0\n",
    "        elif field == 'drive_mode':\n",
    "            data['drive_mode'] = 'local'\n",
    "        elif field == 'recording':\n",
    "            data['recording'] = False\n",
    "        elif field == 'buttons':\n",
    "            data['buttons'] = {\"w1\":False,\"w2\":False,\"w3\":False,\"w4\":False,\"w5\":False}\n",
    "        else:\n",
    "            print(f\"Unexpected post field: '{field}'\")\n",
    "\n",
    "    if data:\n",
    "        json_data = json.dumps(data)\n",
    "        print(f\"Posting {json_data}\")\n",
    "        async with websockets.connect('ws://192.168.137.192:8887/wsDrive') as websocket:\n",
    "            print('go')\n",
    "            await websocket.send(json_data)\n",
    "\n",
    "# asyncio.run(send_data())\n",
    "await send_data()"
   ]
  }
 ],
 "metadata": {
  "kernelspec": {
   "display_name": "donkeycar39",
   "language": "python",
   "name": "python3"
  },
  "language_info": {
   "codemirror_mode": {
    "name": "ipython",
    "version": 3
   },
   "file_extension": ".py",
   "mimetype": "text/x-python",
   "name": "python",
   "nbconvert_exporter": "python",
   "pygments_lexer": "ipython3",
   "version": "3.9.19"
  }
 },
 "nbformat": 4,
 "nbformat_minor": 2
}
